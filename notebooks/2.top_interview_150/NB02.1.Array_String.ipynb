{
 "cells": [
  {
   "cell_type": "markdown",
   "metadata": {},
   "source": [
    "# Array / String Section"
   ]
  },
  {
   "cell_type": "markdown",
   "metadata": {},
   "source": [
    "## 1. Merge Sorted Array"
   ]
  },
  {
   "cell_type": "markdown",
   "metadata": {},
   "source": [
    "### My first try"
   ]
  },
  {
   "cell_type": "code",
   "execution_count": 6,
   "metadata": {},
   "outputs": [
    {
     "name": "stdout",
     "output_type": "stream",
     "text": [
      "[1, 2, 2, 3, 5, 6]\n"
     ]
    }
   ],
   "source": [
    "class Solution(object):\n",
    "    def __init__(self):\n",
    "        self.nums1 = None  # Initialize nums1 as an instance attribute\n",
    "\n",
    "    def merge(self, nums1, m, nums2, n):\n",
    "        \"\"\"\n",
    "        :type nums1: List[int]\n",
    "        :type m: int\n",
    "        :type nums2: List[int]\n",
    "        :type n: int\n",
    "        :rtype: None Do not return anything, modify nums1 in-place instead.\n",
    "        \"\"\"\n",
    "        # Assign nums1 to the instance attribute\n",
    "        self.nums1 = nums1\n",
    "        \n",
    "        # Merge nums1 and nums2\n",
    "        start = [0] * m\n",
    "        start.extend(nums2)\n",
    "        self.nums1 = [a + b for a, b in zip(self.nums1, start)]\n",
    "        self.nums1.sort()\n",
    "\n",
    "# Example usage\n",
    "solution = Solution()\n",
    "solution.merge(nums1=[1, 2, 3, 0, 0, 0], m=3, nums2=[2, 5, 6], n=3)\n",
    "print(solution.nums1)  # Output: [1, 2, 2, 3, 5, 6]\n"
   ]
  },
  {
   "cell_type": "markdown",
   "metadata": {},
   "source": [
    "### My Second try after experimenting with the 'Sort' method"
   ]
  },
  {
   "cell_type": "code",
   "execution_count": 7,
   "metadata": {},
   "outputs": [],
   "source": [
    "class Solution(object):\n",
    "    def merge(self, nums1, m, nums2, n):\n",
    "      for j in range(n):\n",
    "          nums1[m+j] = nums2[j] # fill in the 0's in nums 1 with the numbers in nums 2\n",
    "      nums1.sort() # sort nums1 (Kind of cheating)\n",
    "Solution().merge(nums1 = [1,2,3,0,0,0], m =3, nums2 = [2,5,6], n=3) "
   ]
  },
  {
   "cell_type": "markdown",
   "metadata": {},
   "source": [
    "### Two-Pointer (O(n) time complexity)"
   ]
  },
  {
   "cell_type": "code",
   "execution_count": null,
   "metadata": {},
   "outputs": [],
   "source": [
    "class Solution(object):\n",
    "    def merge(self, nums1, m, nums2, n):\n",
    "        i = m - 1 # the index of the value in list 1 that we are comparing\n",
    "        j = n - 1 # The index of the value in list 2 that we are comparing\n",
    "        k = m + n - 1 # The index of the 'merged' nums list we are currently working on\n",
    "        \n",
    "        while j >= 0:\n",
    "            if i >= 0 and nums1[i] > nums2[j]:\n",
    "                nums1[k] = nums1[i]\n",
    "                i -= 1 # next time, we are comparing the highest number of nums 2 to the NEXT highest number in nums 1\n",
    "            else: # if the number compared in nums 2 is higher or we have added all the numbers from nums 1, we can just add that number from nums 2.\n",
    "                nums1[k] = nums2[j]\n",
    "                j -= 1\n",
    "            k -= 1"
   ]
  },
  {
   "cell_type": "markdown",
   "metadata": {},
   "source": [
    "## 2. Remove Element"
   ]
  },
  {
   "cell_type": "markdown",
   "metadata": {},
   "source": [
    "### My Method"
   ]
  },
  {
   "cell_type": "code",
   "execution_count": 9,
   "metadata": {},
   "outputs": [
    {
     "name": "stdout",
     "output_type": "stream",
     "text": [
      "[2]\n",
      "[2]\n"
     ]
    },
    {
     "data": {
      "text/plain": [
       "1"
      ]
     },
     "metadata": {},
     "output_type": "display_data"
    },
    {
     "data": {
      "text/plain": [
       "[2]"
      ]
     },
     "metadata": {},
     "output_type": "display_data"
    }
   ],
   "source": [
    "nums = [2]\n",
    "class Solution(object):\n",
    "    def removeElement(self, nums, val):\n",
    "        \"\"\"\n",
    "        :type nums: List[int]\n",
    "        :type val: int\n",
    "        :rtype: int\n",
    "        \"\"\"\n",
    "        \n",
    "        good_nums = []\n",
    "        for i, num in enumerate(nums):\n",
    "            if num != val:\n",
    "                good_nums.append(num)\n",
    "        k = len(good_nums)\n",
    "        print(good_nums)\n",
    "\n",
    "        for i, num in enumerate(good_nums):\n",
    "            \n",
    "            nums[i] = num\n",
    "        print(nums)\n",
    "            \n",
    "        n = len(nums) - k\n",
    "        if n > 0:      \n",
    "            for i, num in enumerate(nums[-n:]):\n",
    "                \n",
    "                nums[-(i+1)] = val\n",
    "                      \n",
    "        return k\n",
    "display(Solution().removeElement(nums = nums, val = 3))\n",
    "display(nums)"
   ]
  },
  {
   "cell_type": "markdown",
   "metadata": {},
   "source": [
    "### Simpler two-pointer (O(n))"
   ]
  },
  {
   "cell_type": "code",
   "execution_count": null,
   "metadata": {},
   "outputs": [],
   "source": [
    "class Solution(object):\n",
    "    def removeElement(self, nums, val):\n",
    "        i = 0 # The current index of nums 1 we are deciding on what to do with (keep, or replace with the next element that is not val)\n",
    "        for x in nums: \n",
    "            if x != val:\n",
    "                nums[i] = x\n",
    "                i += 1\n",
    "            # if x is not val, by nature, i stays put (we still need to figure out what number to put at the index), but the loop goes\n",
    "            # through to another iteration, increasing x (so we are now seeing whether the next number in nums is suitable for replacing the value at i)\n",
    "        return i"
   ]
  },
  {
   "cell_type": "markdown",
   "metadata": {},
   "source": [
    "### Ease to understand -> O(n^2)"
   ]
  },
  {
   "cell_type": "markdown",
   "metadata": {},
   "source": [
    "#### Pops the value at a given index:"
   ]
  },
  {
   "cell_type": "code",
   "execution_count": null,
   "metadata": {},
   "outputs": [],
   "source": [
    "class Solution(object):\n",
    "    def removeElement(self, nums, val):\n",
    "        \"\"\"\n",
    "        :type nums: List[int]\n",
    "        :type val: int\n",
    "        :rtype: int\n",
    "        \"\"\"\n",
    "        count = i = 0\n",
    "        while i < len(nums):\n",
    "            if nums[i] == val:\n",
    "                nums.pop(i) # gets rid of the number at index i and shifts every other element along to the left by 1:\n",
    "                count += 1\n",
    "                continue\n",
    "            i += 1\n",
    "        return len(nums)"
   ]
  },
  {
   "cell_type": "markdown",
   "metadata": {},
   "source": [
    "#### Pops the value wherever it is found in nums until all instances are gone:"
   ]
  },
  {
   "cell_type": "code",
   "execution_count": 12,
   "metadata": {},
   "outputs": [],
   "source": [
    "class Solution(object):\n",
    "    def removeElement(self, nums, val):\n",
    "        \"\"\"\n",
    "        :type nums: List[int]\n",
    "        :type val: int\n",
    "        :rtype: int\n",
    "        \"\"\"\n",
    "        sum=0\n",
    "        while val in nums:\n",
    "                nums.remove(val) # removes the first occurrence of val from the list nums\n",
    "        # loop keeps running until all 'first intances' of val are removed. If there is no longer a 'first instance' of val, val is no longer in the list"
   ]
  },
  {
   "cell_type": "markdown",
   "metadata": {},
   "source": [
    "## 3. Remove Duplicates from Sorted Array"
   ]
  },
  {
   "cell_type": "markdown",
   "metadata": {},
   "source": [
    "### My Attempt"
   ]
  },
  {
   "cell_type": "code",
   "execution_count": 13,
   "metadata": {},
   "outputs": [],
   "source": [
    "class Solution(object):\n",
    "    def removeDuplicates(self, nums):\n",
    "        \"\"\"\n",
    "        :type nums: List[int]\n",
    "        :rtype: int\n",
    "        \"\"\"\n",
    "        replace = 1 # keeps track of the number we are considering to replace\n",
    "        for i in range(0, len(nums)-1):\n",
    "            if nums[i] != nums[i+1]: # only works because nums is SORTED in ASCENDING ORDER, which means any duplicate will be right next to the original number\n",
    "                nums[replace] = nums[i+1]\n",
    "                replace += 1\n",
    "        return replace"
   ]
  },
  {
   "cell_type": "markdown",
   "metadata": {},
   "source": [
    "### Fewest Lines of Code"
   ]
  },
  {
   "cell_type": "code",
   "execution_count": 22,
   "metadata": {},
   "outputs": [],
   "source": [
    "def removeDuplicates(self, nums: List[int]) -> int:\n",
    "\t\tnums[:] = sorted(set(nums)) # Basically Cheating\n",
    "\t\t# from collections import OrderedDict\n",
    "\t\t# nums[:] =  OrderedDict.fromkeys(nums)\n",
    "\t\treturn len(nums)"
   ]
  },
  {
   "cell_type": "markdown",
   "metadata": {},
   "source": [
    "### Two-Pointer Solutions (O(n))"
   ]
  },
  {
   "cell_type": "markdown",
   "metadata": {},
   "source": [
    "#### My Two-pointer"
   ]
  },
  {
   "cell_type": "code",
   "execution_count": 60,
   "metadata": {},
   "outputs": [
    {
     "name": "stdout",
     "output_type": "stream",
     "text": [
      "checking: 1\n",
      "checking: 4\n",
      "replacing 1 with 4\n",
      "checking: 1\n",
      "checking: 4\n",
      "checking: 5\n",
      "replacing 1 with 5\n",
      "checking: 4\n",
      "checking: 5\n",
      "checking: 7\n",
      "replacing 4 with 7\n",
      "checking: 5\n",
      "checking: 7\n",
      "checking: 7\n",
      "checking: 9\n",
      "replacing 5 with 9\n",
      "checking: 7\n",
      "checking: 7\n",
      "checking: 9\n"
     ]
    },
    {
     "data": {
      "text/plain": [
       "5"
      ]
     },
     "metadata": {},
     "output_type": "display_data"
    },
    {
     "data": {
      "text/plain": [
       "[1, 4, 5, 7, 9, 7, 7, 9]"
      ]
     },
     "execution_count": 60,
     "metadata": {},
     "output_type": "execute_result"
    }
   ],
   "source": [
    "class Solution(object):\n",
    "    def removeDuplicates(self, nums):\n",
    "        \"\"\"\n",
    "        :type nums: List[int]\n",
    "        :rtype: int\n",
    "        \"\"\"\n",
    "        slow = 1 # keeps track of the number we are considering to replace\n",
    "        fast = 2 # keeps track of the number we migth replace it with\n",
    "        last = False\n",
    "        while True:\n",
    "    \n",
    "            if slow >= len(nums):\n",
    "                break\n",
    "            if nums[slow] in nums[:slow]: # only works because nums is SORTED in ASCENDING ORDER, which means any duplicate will be right next to the original number\n",
    "                while True:\n",
    "                    if fast >= len(nums):\n",
    "                        last = True\n",
    "                        break\n",
    "                    print(f'checking: {nums[fast]}')\n",
    "                    if nums[fast] not in nums[:slow]:\n",
    "                        print(f'replacing {nums[slow]} with {nums[fast]}')\n",
    "                        nums[slow] = nums[fast]\n",
    "                        break\n",
    "                    fast += 1\n",
    "            if last:\n",
    "                break \n",
    "            slow+=1\n",
    "            fast = slow\n",
    "            \n",
    "        return slow\n",
    "\n",
    "nums = [1,1,1,4,5,7,7,9]\n",
    "#print(nums[:3])\n",
    "display(Solution().removeDuplicates(nums))\n",
    "nums"
   ]
  },
  {
   "cell_type": "markdown",
   "metadata": {},
   "source": [
    "#### Official Two Pointer"
   ]
  },
  {
   "cell_type": "code",
   "execution_count": null,
   "metadata": {},
   "outputs": [],
   "source": [
    "def removeDuplicates(self, nums: List[int]) -> int:\n",
    "\t\tslow, fast = 0, 1\n",
    "\t\twhile fast in range(len(nums)):\n",
    "\t\t\tif nums[slow] == nums[fast]: # by construction, nums[slow] = nums[fast] after each major iteration since the latter replaced the former\n",
    "\t\t\t\tfast += 1\n",
    "\t\t\telse:\n",
    "\t\t\t\tnums[slow+1] = nums[fast]\n",
    "\t\t\t\tfast += 1\n",
    "\t\t\t\tslow += 1\n",
    "\t\t# loop only stops once no longer any nums[fast] possible that wouldn't be a duplicate of the so far cleaned list\n",
    "\t\t# we don't need to move fast back to the position of slow each time, because evrything that fast has passed has either been added or skipped:\n",
    "\t\t# all candidates for being unique elements are either at nums[fast] or to the right due to ascending order.\n",
    "\t\treturn slow + 1"
   ]
  },
  {
   "cell_type": "markdown",
   "metadata": {},
   "source": [
    "#### Simplified Two-Pointer"
   ]
  },
  {
   "cell_type": "code",
   "execution_count": null,
   "metadata": {},
   "outputs": [],
   "source": [
    "def removeDuplicates(self, nums: List[int]) -> int:\n",
    "\t\tj = 0\n",
    "\t\tfor i in range(1, len(nums)):\n",
    "\t\t# fast was incremented in each iteration anyway, so one might as well just call it i and run through each element.\n",
    "\t\t\tif nums[j] != nums[i]:\n",
    "\t\t\t\tj += 1\n",
    "\t\t\t\tnums[j] = nums[i]\n",
    "\t\treturn j + 1"
   ]
  },
  {
   "cell_type": "markdown",
   "metadata": {},
   "source": [
    "### Popping the duplicates directly"
   ]
  },
  {
   "cell_type": "code",
   "execution_count": null,
   "metadata": {},
   "outputs": [],
   "source": [
    "def removeDuplicates(self, nums: List[int]) -> int:\n",
    "\t\ti = 1\n",
    "\t\twhile i < len(nums):\n",
    "\t\t\tif nums[i] == nums[i - 1]:\n",
    "\t\t\t\tnums.pop(i)\n",
    "\t\t\telse:\n",
    "\t\t\t\ti += 1\n",
    "\t\treturn len(nums)"
   ]
  },
  {
   "cell_type": "markdown",
   "metadata": {},
   "source": [
    "### Experimenting with Class Types"
   ]
  },
  {
   "cell_type": "code",
   "execution_count": 11,
   "metadata": {},
   "outputs": [
    {
     "name": "stdout",
     "output_type": "stream",
     "text": [
      "True\n"
     ]
    }
   ],
   "source": [
    "class Example:\n",
    "    def __init__(self, data: List[int]):\n",
    "        self.data = data  # Instance variable\n",
    "\n",
    "    def hasDuplicate(self) -> bool:\n",
    "        # Uses self to access the instance variable data\n",
    "        return len(self.data) != len(set(self.data)) \n",
    "\n",
    "# Creating an instance of Example. The class itself, not the hasDuplicate function attribute takes the list as an input\n",
    "example = Example([1, 2, 3, 4, 4])\n",
    "\n",
    "# Calling the hasDuplicate method\n",
    "print(example.hasDuplicate())  # Output: True\n"
   ]
  }
 ],
 "metadata": {
  "kernelspec": {
   "display_name": "base",
   "language": "python",
   "name": "python3"
  },
  "language_info": {
   "codemirror_mode": {
    "name": "ipython",
    "version": 3
   },
   "file_extension": ".py",
   "mimetype": "text/x-python",
   "name": "python",
   "nbconvert_exporter": "python",
   "pygments_lexer": "ipython3",
   "version": "3.11.5"
  }
 },
 "nbformat": 4,
 "nbformat_minor": 2
}
