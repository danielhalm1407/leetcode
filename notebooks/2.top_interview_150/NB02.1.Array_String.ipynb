{
 "cells": [
  {
   "cell_type": "markdown",
   "metadata": {},
   "source": [
    "# Array / String Section"
   ]
  },
  {
   "cell_type": "markdown",
   "metadata": {},
   "source": [
    "## 1. Merge Sorted Array"
   ]
  },
  {
   "cell_type": "code",
   "execution_count": 6,
   "metadata": {},
   "outputs": [
    {
     "name": "stdout",
     "output_type": "stream",
     "text": [
      "[1, 2, 2, 3, 5, 6]\n"
     ]
    }
   ],
   "source": [
    "class Solution(object):\n",
    "    def __init__(self):\n",
    "        self.nums1 = None  # Initialize nums1 as an instance attribute\n",
    "\n",
    "    def merge(self, nums1, m, nums2, n):\n",
    "        \"\"\"\n",
    "        :type nums1: List[int]\n",
    "        :type m: int\n",
    "        :type nums2: List[int]\n",
    "        :type n: int\n",
    "        :rtype: None Do not return anything, modify nums1 in-place instead.\n",
    "        \"\"\"\n",
    "        # Assign nums1 to the instance attribute\n",
    "        self.nums1 = nums1\n",
    "        \n",
    "        # Merge nums1 and nums2\n",
    "        start = [0] * m\n",
    "        start.extend(nums2)\n",
    "        self.nums1 = [a + b for a, b in zip(self.nums1, start)]\n",
    "        self.nums1.sort()\n",
    "\n",
    "# Example usage\n",
    "solution = Solution()\n",
    "solution.merge(nums1=[1, 2, 3, 0, 0, 0], m=3, nums2=[2, 5, 6], n=3)\n",
    "print(solution.nums1)  # Output: [1, 2, 2, 3, 5, 6]\n"
   ]
  },
  {
   "cell_type": "code",
   "execution_count": 7,
   "metadata": {},
   "outputs": [],
   "source": [
    "class Solution(object):\n",
    "    def merge(self, nums1, m, nums2, n):\n",
    "      for j in range(n):\n",
    "          nums1[m+j] = nums2[j]\n",
    "      nums1.sort()\n",
    "Solution().merge(nums1 = [1,2,3,0,0,0], m =3, nums2 = [2,5,6], n=3) "
   ]
  },
  {
   "cell_type": "code",
   "execution_count": 8,
   "metadata": {},
   "outputs": [
    {
     "name": "stdout",
     "output_type": "stream",
     "text": [
      "[1, 2, 4, 5, 6, 9]\n"
     ]
    }
   ],
   "source": [
    "# Example list\n",
    "numbers = [4, 2, 9, 1, 5, 6]\n",
    "\n",
    "# Sort the list in ascending order\n",
    "numbers.sort()\n",
    "\n",
    "print(numbers)  # Output: [1, 2, 4, 5, 6, 9]\n"
   ]
  },
  {
   "cell_type": "markdown",
   "metadata": {},
   "source": [
    "## 2. Remove Element"
   ]
  },
  {
   "cell_type": "code",
   "execution_count": 9,
   "metadata": {},
   "outputs": [
    {
     "name": "stdout",
     "output_type": "stream",
     "text": [
      "[2]\n",
      "[2]\n"
     ]
    },
    {
     "data": {
      "text/plain": [
       "1"
      ]
     },
     "metadata": {},
     "output_type": "display_data"
    },
    {
     "data": {
      "text/plain": [
       "[2]"
      ]
     },
     "metadata": {},
     "output_type": "display_data"
    }
   ],
   "source": [
    "nums = [2]\n",
    "class Solution(object):\n",
    "    def removeElement(self, nums, val):\n",
    "        \"\"\"\n",
    "        :type nums: List[int]\n",
    "        :type val: int\n",
    "        :rtype: int\n",
    "        \"\"\"\n",
    "        \n",
    "        good_nums = []\n",
    "        for i, num in enumerate(nums):\n",
    "            if num != val:\n",
    "                good_nums.append(num)\n",
    "        k = len(good_nums)\n",
    "        print(good_nums)\n",
    "\n",
    "        for i, num in enumerate(good_nums):\n",
    "            \n",
    "            nums[i] = num\n",
    "        print(nums)\n",
    "            \n",
    "        n = len(nums) - k\n",
    "        if n > 0:      \n",
    "            for i, num in enumerate(nums[-n:]):\n",
    "                \n",
    "                nums[-(i+1)] = val\n",
    "                      \n",
    "        return k\n",
    "display(Solution().removeElement(nums = nums, val = 3))\n",
    "display(nums)"
   ]
  },
  {
   "cell_type": "markdown",
   "metadata": {},
   "source": [
    "## 3. Remove Duplicates from Sorted Array"
   ]
  },
  {
   "cell_type": "code",
   "execution_count": 10,
   "metadata": {},
   "outputs": [
    {
     "name": "stdout",
     "output_type": "stream",
     "text": [
      "True\n"
     ]
    }
   ],
   "source": [
    "from typing import List\n",
    "\n",
    "class Solution:\n",
    "    def hasDuplicate(self, nums: List[int]) -> bool:\n",
    "        # Implementation of the function\n",
    "        return len(nums) != len(set(nums))\n",
    "\n",
    "# Creating an instance of Solution\n",
    "solution = Solution()\n",
    "\n",
    "# Calling the hasDuplicate method with a list\n",
    "result = solution.hasDuplicate([1, 2, 3, 4, 4])\n",
    "print(result)  # Output: True\n"
   ]
  },
  {
   "cell_type": "code",
   "execution_count": 11,
   "metadata": {},
   "outputs": [
    {
     "name": "stdout",
     "output_type": "stream",
     "text": [
      "True\n"
     ]
    }
   ],
   "source": [
    "class Example:\n",
    "    def __init__(self, data: List[int]):\n",
    "        self.data = data  # Instance variable\n",
    "\n",
    "    def hasDuplicate(self) -> bool:\n",
    "        # Uses self to access the instance variable data\n",
    "        return len(self.data) != len(set(self.data)) \n",
    "\n",
    "# Creating an instance of Example\n",
    "example = Example([1, 2, 3, 4, 4])\n",
    "\n",
    "# Calling the hasDuplicate method\n",
    "print(example.hasDuplicate())  # Output: True\n"
   ]
  }
 ],
 "metadata": {
  "kernelspec": {
   "display_name": "base",
   "language": "python",
   "name": "python3"
  },
  "language_info": {
   "codemirror_mode": {
    "name": "ipython",
    "version": 3
   },
   "file_extension": ".py",
   "mimetype": "text/x-python",
   "name": "python",
   "nbconvert_exporter": "python",
   "pygments_lexer": "ipython3",
   "version": "3.11.5"
  }
 },
 "nbformat": 4,
 "nbformat_minor": 2
}
