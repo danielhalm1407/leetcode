{
 "cells": [
  {
   "cell_type": "markdown",
   "metadata": {},
   "source": [
    "# Workings for Linked List Problems"
   ]
  },
  {
   "cell_type": "markdown",
   "metadata": {},
   "source": [
    "## Design Singly Linked List"
   ]
  },
  {
   "cell_type": "code",
   "execution_count": 190,
   "metadata": {},
   "outputs": [],
   "source": [
    "class ListNode: \n",
    "    def __init__(self, val, next_node=None):\n",
    "        self.val = val\n",
    "        self.next = next_node\n",
    "\n",
    "\n",
    "class MyLinkedList(object):\n",
    "    def __init__(self):\n",
    "        self.head = ListNode(-1)  # dummy node\n",
    "        self.tail = self.head\n",
    "        self.size = 0\n",
    "        \n",
    "\n",
    "    def aslist(self):\n",
    "        list = []\n",
    "        pointer = self.head\n",
    "        for _ in range(self.size):\n",
    "            list.append(pointer.val)\n",
    "            pointer = pointer.next\n",
    "        return list\n",
    "\n",
    "    def get(self, index):\n",
    "        # handling edge case\n",
    "        if index < 0 or index >= self.size:\n",
    "            return -1\n",
    "\n",
    "        curr = self.head\n",
    "        for _ in range(index):\n",
    "            curr = curr.next # keeps moving the pointer along until we get to the 'next' attribute of the index-1-th node\n",
    "        return curr.val\n",
    "\n",
    "    def addAtHead(self, val):\n",
    "        if self.size == 0:\n",
    "            self.head = self.tail = ListNode(val)\n",
    "            self.size = 1\n",
    "            return\n",
    "        else:\n",
    "            self.addAtIndex(0, val)\n",
    "        #self.update_list()\n",
    "\n",
    "    def addAtTail(self, val):\n",
    "        # addAtIndex(self.size, val) was taking O(n)\n",
    "        # Optimization: adding at tail is now O(1)\n",
    "        self.tail.next = ListNode(val)\n",
    "        self.tail = self.tail.next\n",
    "        self.size += 1\n",
    "        #self.update_list()\n",
    "\n",
    "    def addAtIndex(self, index, val):\n",
    "        # tail = when the index is equal to the size, we can add to tail\n",
    "        # but can not add when the index is more than the last or you can call it size\n",
    "        if index > self.size:\n",
    "            return\n",
    "\n",
    "        # pointing to the dummy node\n",
    "        # because to insert a new node, we need to stop at the predecessor node\n",
    "        # basically, [prev -> next] will be [prev -> new_node -> the old next of prev]\n",
    "        pointer = self.head  # the dummy head\n",
    "        if index > 0:\n",
    "            for _ in range(index - 1):\n",
    "                pointer = pointer.next\n",
    "            new_node = ListNode(val, pointer.next) # get new node to point to the node that the index-1-th node used to be pointing to \n",
    "            # (i.e., point to the index-th node)\n",
    "            pointer.next = new_node # get the index-1-th node to point towards the new node we just inserted\n",
    "        else:\n",
    "            new_node = ListNode(val, pointer)\n",
    "            self.head = new_node\n",
    "                 \n",
    "\n",
    "        # eventually if the new node has no next node\n",
    "        # we can call it tail of the linkedlist\n",
    "        if not new_node.next:\n",
    "            self.tail = new_node\n",
    "\n",
    "        self.size += 1\n",
    "        #self.update_list()\n",
    "\n",
    "    def deleteAtHead(self):\n",
    "        self.deleteAtIndex(0)\n",
    "        #self.update_list()\n",
    "\n",
    "    def deleteAtTail(self):\n",
    "        # can not optimize this without double linked list.\n",
    "        # because in single linked list it takes O(n) time\n",
    "        # to reach the predecessor node of the tail\n",
    "        self.deleteAtIndex(self.size - 1)#\n",
    "        #self.update_list()\n",
    "\n",
    "    def deleteAtIndex(self, index):\n",
    "        if index < 0 or index >= self.size:\n",
    "            return\n",
    "\n",
    "        # same as insertion\n",
    "        prev = self.head\n",
    "        for _ in range(index):\n",
    "            prev = prev.next\n",
    "\n",
    "        node_to_delete = prev.next\n",
    "        # in case we want to delete the tail where (index = size -1)\n",
    "        if self.tail == node_to_delete:\n",
    "            self.tail = prev\n",
    "\n",
    "        # at this point the pred will be hopped wil to the next.next\n",
    "        prev.next = prev.next.next\n",
    "        self.size -= 1\n",
    "        #self.update_list()\n",
    "\n",
    "\n",
    "    \n",
    "\n",
    "        "
   ]
  },
  {
   "cell_type": "markdown",
   "metadata": {},
   "source": [
    "#### Try it out"
   ]
  },
  {
   "cell_type": "code",
   "execution_count": 191,
   "metadata": {},
   "outputs": [
    {
     "data": {
      "text/plain": [
       "[1, 2, 4]"
      ]
     },
     "metadata": {},
     "output_type": "display_data"
    },
    {
     "data": {
      "text/plain": [
       "2"
      ]
     },
     "metadata": {},
     "output_type": "display_data"
    },
    {
     "data": {
      "text/plain": [
       "[1, 2]"
      ]
     },
     "execution_count": 191,
     "metadata": {},
     "output_type": "execute_result"
    }
   ],
   "source": [
    "\n",
    "myLinkedList = MyLinkedList()\n",
    "myLinkedList.addAtHead(1)\n",
    "myLinkedList.addAtTail(4)\n",
    "\n",
    "myLinkedList.addAtIndex(1, 2)\n",
    "display(myLinkedList.aslist())\n",
    "display(myLinkedList.get(1))\n",
    "myLinkedList.deleteAtIndex(1)\n",
    "myLinkedList.aslist()\n",
    "#myLinkedList.getList()"
   ]
  },
  {
   "cell_type": "markdown",
   "metadata": {},
   "source": [
    "## Design Doubly Linked List"
   ]
  },
  {
   "cell_type": "code",
   "execution_count": 192,
   "metadata": {},
   "outputs": [],
   "source": [
    "class ListNode(object):\n",
    "\tdef __init__(self, val=0, next=None, prev=None):\n",
    "\t\tself.val = val\n",
    "\t\tself.next = next\n",
    "\t\tself.prev = prev\n",
    "\n",
    "class MyLinkedList(object):\n",
    "\tdef __init__(self):\n",
    "\t\tself.length, self.head, self.tail = 0, None, None\n",
    "\n",
    "\tdef aslist(self):\n",
    "\t\tlist = []\n",
    "\t\tpointer = self.head\n",
    "\t\tfor _ in range(self.length):\n",
    "\t\t\tlist.append(pointer.val)\n",
    "\t\t\tpointer = pointer.next\n",
    "\t\treturn list\n",
    "\n",
    "\tdef addAtHead(self, val):\n",
    "\t\t\"\"\"\n",
    "\t\t:type val: int\n",
    "\t\t:rtype: None\n",
    "\t\t\"\"\"\n",
    "\t\tif self.length == 0:\n",
    "\t\t\tself.head = self.tail = ListNode(val)\n",
    "\t\t\tself.length = 1\n",
    "\t\t\treturn\n",
    "\n",
    "\t\tnewNode = ListNode(val, self.head)\n",
    "\t\tself.head.prev = newNode\n",
    "\t\tself.head = newNode\n",
    "\t\tself.length += 1\n",
    "\n",
    "\n",
    "\tdef addAtTail(self, val):\n",
    "\t\t\"\"\"\n",
    "\t\t:type val: int\n",
    "\t\t:rtype: None\n",
    "\t\t\"\"\"\n",
    "\t\tif self.length == 0:\n",
    "\t\t\tself.head = self.tail = ListNode(val)\n",
    "\t\t\tself.length = 1\n",
    "\t\t\treturn\n",
    "\n",
    "\t\tnewNode = ListNode(val, None, self.tail)\n",
    "\t\tself.tail.next = newNode\n",
    "\t\tself.tail = newNode\n",
    "\t\tself.length += 1\n",
    "\n",
    "\n",
    "\tdef find(self, index):\n",
    "\t\t'''\n",
    "\t\tthe index must be valid\n",
    "\t\t'''\n",
    "\t\tif (index << 1) <= self.length: # index <= length - index\n",
    "\t\t\tpointer = self.head\n",
    "\t\t\tfor _ in range(index): \n",
    "\t\t\t\tpointer = pointer.next # keeps moving the pointer along until we get to the 'next' attribute of the index-1-th node\n",
    "\t\telse: # go in reverse for efficiency if needed\n",
    "\t\t\tpointer = self.tail\n",
    "\t\t\tfor _ in range(self.length - 1 - index): \n",
    "\t\t\t\tpointer = pointer.prev\n",
    "\n",
    "\t\treturn pointer\n",
    "\n",
    "\n",
    "\tdef get(self, index):\n",
    "\t\t\"\"\"\n",
    "\t\t:type index: int\n",
    "\t\t:rtype: int\n",
    "\t\t\"\"\"\n",
    "\t\tif index >= self.length: \n",
    "\t\t\treturn -1\n",
    "\n",
    "\t\treturn self.find(index).val\n",
    "\n",
    "\n",
    "\tdef addAtIndex(self, index, val):\n",
    "\t\t\"\"\"\n",
    "\t\t:type index: int\n",
    "\t\t:type val: int\n",
    "\t\t:rtype: None\n",
    "\t\t\"\"\"\n",
    "\t\tif index > self.length: return\n",
    "\t\tif index == self.length: return self.addAtTail(val)\n",
    "\t\tif index == 0: return self.addAtHead(val)\n",
    "\n",
    "\t\tpointer = self.find(index)\n",
    "\t\tnewNode = ListNode(val, pointer, pointer.prev)\n",
    "\t\tpointer.prev.next = pointer.prev = newNode # The node that used to be before has its next pointer changed to point towards the new node...\n",
    "        # inserted in the place of the old node, and the old node's previous pointer now goes to the new node in place.b\n",
    "\t\tself.length += 1\n",
    "\n",
    "\n",
    "\tdef deleteAtIndex(self, index):\n",
    "\t\t\"\"\"\n",
    "\t\t:type index: int\n",
    "\t\t:rtype: None\n",
    "\t\t\"\"\"\n",
    "\t\tif index >= self.length: \n",
    "\t\t\treturn\n",
    "\t\tif self.length == 1:\n",
    "\t\t\tself.length, self.head, self.tail = 0, None, None\n",
    "\t\t\treturn\n",
    "\t\tif index == 0: \n",
    "\t\t\tself.head = self.head.next\n",
    "\t\t\tself.head.prev = None\n",
    "\t\t\tself.length -= 1\n",
    "\t\t\treturn\n",
    "\t\tif index == self.length - 1: \n",
    "\t\t\tself.tail = self.tail.prev\n",
    "\t\t\tself.tail.next = None\n",
    "\t\t\tself.length -= 1\n",
    "\t\t\treturn\n",
    "\n",
    "\t\tpointer = self.find(index)\n",
    "\t\tpointer.prev.next, pointer.next.prev = pointer.next, pointer.prev\n",
    "\t\tself.length -= 1\n",
    "    \n",
    "   "
   ]
  },
  {
   "cell_type": "markdown",
   "metadata": {},
   "source": [
    "#### Try it out"
   ]
  },
  {
   "cell_type": "code",
   "execution_count": 193,
   "metadata": {},
   "outputs": [
    {
     "data": {
      "text/plain": [
       "[3, 2, 0, 4]"
      ]
     },
     "metadata": {},
     "output_type": "display_data"
    }
   ],
   "source": [
    "myLinkedList = MyLinkedList()\n",
    "for i in [3,2,0,4]:\n",
    "    myLinkedList.addAtTail(i)\n",
    "display(myLinkedList.aslist())\n",
    "\n"
   ]
  },
  {
   "cell_type": "markdown",
   "metadata": {},
   "source": [
    "## Linked List Cycle\n",
    "Given the head of a linked list, return the True if there is a cycle, else return False"
   ]
  },
  {
   "cell_type": "code",
   "execution_count": 194,
   "metadata": {},
   "outputs": [
    {
     "data": {
      "text/plain": [
       "True"
      ]
     },
     "execution_count": 194,
     "metadata": {},
     "output_type": "execute_result"
    }
   ],
   "source": [
    "# Create A Cycle\n",
    "myLinkedList.tail.next = myLinkedList.find(1)\n",
    "# Check that Cycle Exists\n",
    "myLinkedList.find(1) == myLinkedList.tail.next\n"
   ]
  },
  {
   "cell_type": "markdown",
   "metadata": {},
   "source": [
    "### Two-Pointer"
   ]
  },
  {
   "cell_type": "code",
   "execution_count": 195,
   "metadata": {},
   "outputs": [
    {
     "data": {
      "text/plain": [
       "True"
      ]
     },
     "execution_count": 195,
     "metadata": {},
     "output_type": "execute_result"
    }
   ],
   "source": [
    "class Solution(object):\n",
    "    def hasCycle(self, head):\n",
    "        \"\"\"\n",
    "        :type head: ListNode\n",
    "        :rtype: bool\n",
    "        \"\"\"\n",
    "        slow_pointer = head\n",
    "        fast_pointer = head\n",
    "        while fast_pointer and fast_pointer.next: # keep going until no longer any nodes left being pointed to\n",
    "            slow_pointer = slow_pointer.next\n",
    "            fast_pointer = fast_pointer.next.next\n",
    "            if fast_pointer == slow_pointer:\n",
    "                return True\n",
    "        return False\n",
    "        \n",
    "\n",
    "Solution().hasCycle(myLinkedList.head)"
   ]
  },
  {
   "cell_type": "markdown",
   "metadata": {},
   "source": [
    "### Set of unique nodes"
   ]
  },
  {
   "cell_type": "code",
   "execution_count": 196,
   "metadata": {},
   "outputs": [
    {
     "data": {
      "text/plain": [
       "True"
      ]
     },
     "execution_count": 196,
     "metadata": {},
     "output_type": "execute_result"
    }
   ],
   "source": [
    "class Solution(object):    \n",
    "    def hasCycle(self, head: ListNode) -> bool:\n",
    "        nodeSet = set()\n",
    "        while head:\n",
    "            if head in nodeSet:\n",
    "                return True\n",
    "            nodeSet.add(head)\n",
    "            head = head.next\n",
    "        return False\n",
    "    \n",
    "Solution().hasCycle(myLinkedList.head)"
   ]
  },
  {
   "cell_type": "markdown",
   "metadata": {},
   "source": [
    "## Linked List Cycle II\n",
    "Given the head of a linked list, return the node where the cycle begins. If there is no cycle, return null."
   ]
  },
  {
   "cell_type": "code",
   "execution_count": 197,
   "metadata": {},
   "outputs": [],
   "source": [
    "class Solution(object):\n",
    "    def detectCycle(self, head):\n",
    "        slow = fast = head\n",
    "        while fast and fast.next: # keep moving fast forward until we get to a true tail or we meet slow in the cycle\n",
    "            slow, fast = slow.next, fast.next.next\n",
    "            if slow == fast: break\n",
    "        else: return None  # if not (fast and fast.next): return None\n",
    "        while head != slow:\n",
    "            head, slow = head.next, slow.next\n",
    "        return head # can also return slow. Where slow and head meet is the start of the cycle"
   ]
  }
 ],
 "metadata": {
  "kernelspec": {
   "display_name": "base",
   "language": "python",
   "name": "python3"
  },
  "language_info": {
   "codemirror_mode": {
    "name": "ipython",
    "version": 3
   },
   "file_extension": ".py",
   "mimetype": "text/x-python",
   "name": "python",
   "nbconvert_exporter": "python",
   "pygments_lexer": "ipython3",
   "version": "3.11.5"
  }
 },
 "nbformat": 4,
 "nbformat_minor": 2
}
